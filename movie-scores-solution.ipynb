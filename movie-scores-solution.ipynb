{
 "cells": [
  {
   "cell_type": "markdown",
   "metadata": {},
   "source": [
    "# Movie Score Data - Is Fandango Inflating Scores to Sell More Tickets?\n",
    "\n",
    "Our dataset contains information on how major movie review services rated movies. The data originally came from [FiveThirtyEight](https://fivethirtyeight.com/features/fandango-movies-ratings/).\n",
    "\n",
    "The dataset was put together to help detect bias in the movie review sites. Each of these sites has 2 types of score -- User scores, which aggregate user reviews, and Critic score, which aggregate professional critical reviews of the movie. Each service puts their ratings on a different scale:\n",
    "\n",
    "- RottenTomatoes - 0-100, in increments of 1.\n",
    "- Metacritic - 0-100, in increments of 1.\n",
    "- IMDB - 0-10, in increments of .1.\n",
    "- Fandango - 0-5, in increments of .5.\n",
    "\n",
    "Typically, the primary score shown by the sites will be the Critic score. Here are descriptions of some of the relevant columns in the dataset:\n",
    "\n",
    "- FILM -- the name of the movie.\n",
    "- RottenTomatoes -- the RottenTomatoes (RT) critic score.\n",
    "- RottenTomatoes_User -- the RT user score.\n",
    "- Metacritic -- the Metacritic critic score.\n",
    "- Metacritic_User -- the Metacritic user score.\n",
    "- IMDB -- the IMDB score given to the movie.\n",
    "- Fandango_Stars -- the number of stars Fandango gave the movie."
   ]
  },
  {
   "cell_type": "code",
   "execution_count": 94,
   "metadata": {},
   "outputs": [
    {
     "name": "stdout",
     "output_type": "stream",
     "text": [
      "                             FILM  RottenTomatoes  RottenTomatoes_User  \\\n",
      "0  Avengers: Age of Ultron (2015)              74                   86   \n",
      "1               Cinderella (2015)              85                   80   \n",
      "2                  Ant-Man (2015)              80                   90   \n",
      "3          Do You Believe? (2015)              18                   84   \n",
      "4   Hot Tub Time Machine 2 (2015)              14                   28   \n",
      "\n",
      "   Metacritic  Metacritic_User  IMDB  Fandango_Stars  Fandango_Ratingvalue  \\\n",
      "0          66              7.1   7.8             5.0                   4.5   \n",
      "1          67              7.5   7.1             5.0                   4.5   \n",
      "2          64              8.1   7.8             5.0                   4.5   \n",
      "3          22              4.7   5.4             5.0                   4.5   \n",
      "4          29              3.4   5.1             3.5                   3.0   \n",
      "\n",
      "   RT_norm  RT_user_norm         ...           IMDB_norm  RT_norm_round  \\\n",
      "0     3.70           4.3         ...                3.90            3.5   \n",
      "1     4.25           4.0         ...                3.55            4.5   \n",
      "2     4.00           4.5         ...                3.90            4.0   \n",
      "3     0.90           4.2         ...                2.70            1.0   \n",
      "4     0.70           1.4         ...                2.55            0.5   \n",
      "\n",
      "   RT_user_norm_round  Metacritic_norm_round  Metacritic_user_norm_round  \\\n",
      "0                 4.5                    3.5                         3.5   \n",
      "1                 4.0                    3.5                         4.0   \n",
      "2                 4.5                    3.0                         4.0   \n",
      "3                 4.0                    1.0                         2.5   \n",
      "4                 1.5                    1.5                         1.5   \n",
      "\n",
      "   IMDB_norm_round  Metacritic_user_vote_count  IMDB_user_vote_count  \\\n",
      "0              4.0                        1330                271107   \n",
      "1              3.5                         249                 65709   \n",
      "2              4.0                         627                103660   \n",
      "3              2.5                          31                  3136   \n",
      "4              2.5                          88                 19560   \n",
      "\n",
      "   Fandango_votes  Fandango_Difference  \n",
      "0           14846                  0.5  \n",
      "1           12640                  0.5  \n",
      "2           12055                  0.5  \n",
      "3            1793                  0.5  \n",
      "4            1021                  0.5  \n",
      "\n",
      "[5 rows x 22 columns]\n"
     ]
    }
   ],
   "source": [
    "import pandas as pd\n",
    "movies = pd.read_csv(\"/Users/chesterjohn/Desktop/dataquest/fandango/fandango_score_comparison.csv\")\n",
    "print(movies.head())"
   ]
  },
  {
   "cell_type": "markdown",
   "metadata": {},
   "source": [
    "## Movie Score Distribution Comparison"
   ]
  },
  {
   "cell_type": "code",
   "execution_count": 95,
   "metadata": {
    "collapsed": true
   },
   "outputs": [],
   "source": [
    "import matplotlib.pyplot as plt\n",
    "%matplotlib inline"
   ]
  },
  {
   "cell_type": "code",
   "execution_count": 96,
   "metadata": {},
   "outputs": [
    {
     "data": {
      "image/png": "[encoded data removed]",
      "text/plain": [
       "<matplotlib.figure.Figure at 0x10db34978>"
      ]
     },
     "metadata": {},
     "output_type": "display_data"
    },
    {
     "data": {
      "image/png": "[encoded data removed]",
      "text/plain": [
       "<matplotlib.figure.Figure at 0x10d4b2828>"
      ]
     },
     "metadata": {},
     "output_type": "display_data"
    }
   ],
   "source": [
    "plt.hist(movies[\"Metacritic_norm_round\"],bins=10)\n",
    "plt.xlim(0,5)\n",
    "plt.title(\"Metacritic\")\n",
    "plt.show()\n",
    "plt.hist(movies[\"Fandango_Stars\"],bins=10)\n",
    "plt.xlim(0,5)\n",
    "plt.title(\"Fandango\")\n",
    "plt.show()"
   ]
  },
  {
   "cell_type": "markdown",
   "metadata": {},
   "source": [
    "### Our Findings\n",
    "Fandango scores are obviously left-skewed with scores mostly beyond 3 stars, with mostly between 4 and 4.5, while Metacritic scores are more distributed centering around the 3-star mark, with scores going below 1. While generally the median is lower than the mean, for the case of Metacritic, there are a few movies with very low scores (if we're talking 2015, my personal pick would be Fantastic Four - what a snooze fest!) that pulled the average way down."
   ]
  },
  {
   "cell_type": "code",
   "execution_count": 97,
   "metadata": {},
   "outputs": [
    {
     "name": "stdout",
     "output_type": "stream",
     "text": [
      "Fandango mean score: 4.089041095890411\n",
      "Fandango median score: 4.0\n",
      "Metacritic mean score: 2.9726027397260273\n",
      "Metacritic median score: 3.0\n",
      "Fandango score standard deviation: 0.5385321612699531\n",
      "Metacritic score standard deviation: 0.9875610297038636\n"
     ]
    }
   ],
   "source": [
    "import numpy as py\n",
    "\n",
    "fg_mean = movies[\"Fandango_Stars\"].mean()\n",
    "print(\"Fandango mean score: \" + str(fg_mean))\n",
    "fg_median = movies[\"Fandango_Stars\"].median()\n",
    "print(\"Fandango median score: \" + str(fg_median))\n",
    "\n",
    "mc_mean = movies[\"Metacritic_norm_round\"].mean()\n",
    "print(\"Metacritic mean score: \" + str(mc_mean))\n",
    "mc_median = movies[\"Metacritic_norm_round\"].median()\n",
    "print(\"Metacritic median score: \" + str(mc_median))\n",
    "\n",
    "fg_std = py.std(movies[\"Fandango_Stars\"])\n",
    "print(\"Fandango score standard deviation: \" + str(fg_std))\n",
    "mc_std = py.std(movies[\"Metacritic_norm_round\"])\n",
    "print(\"Metacritic score standard deviation: \" + str(mc_std))"
   ]
  },
  {
   "cell_type": "markdown",
   "metadata": {},
   "source": [
    "## Finding The Largest Outliers"
   ]
  },
  {
   "cell_type": "code",
   "execution_count": 98,
   "metadata": {},
   "outputs": [
    {
     "data": {
      "image/png": "[encoded data removed]",
      "text/plain": [
       "<matplotlib.figure.Figure at 0x10d7bacf8>"
      ]
     },
     "metadata": {},
     "output_type": "display_data"
    }
   ],
   "source": [
    "movies.plot(x=\"Metacritic_norm_round\",y=\"Fandango_Stars\",kind=\"scatter\",title=\"Fandango vs Metacritic\")\n",
    "plt.show()"
   ]
  },
  {
   "cell_type": "code",
   "execution_count": 99,
   "metadata": {},
   "outputs": [
    {
     "name": "stdout",
     "output_type": "stream",
     "text": [
      "                        FILM  RottenTomatoes  RottenTomatoes_User  Metacritic  \\\n",
      "3     Do You Believe? (2015)              18                   84          22   \n",
      "85         Little Boy (2015)              20                   81          30   \n",
      "47              Annie (2014)              27                   61          33   \n",
      "19             Pixels (2015)              17                   54          27   \n",
      "134  The Longest Ride (2015)              31                   73          33   \n",
      "\n",
      "     Metacritic_User  IMDB  Fandango_Stars  Fandango_Ratingvalue  RT_norm  \\\n",
      "3                4.7   5.4             5.0                   4.5     0.90   \n",
      "85               5.9   7.4             4.5                   4.3     1.00   \n",
      "47               4.8   5.2             4.5                   4.2     1.35   \n",
      "19               5.3   5.6             4.5                   4.1     0.85   \n",
      "134              4.8   7.2             4.5                   4.5     1.55   \n",
      "\n",
      "     RT_user_norm   ...     RT_norm_round  RT_user_norm_round  \\\n",
      "3            4.20   ...               1.0                 4.0   \n",
      "85           4.05   ...               1.0                 4.0   \n",
      "47           3.05   ...               1.5                 3.0   \n",
      "19           2.70   ...               1.0                 2.5   \n",
      "134          3.65   ...               1.5                 3.5   \n",
      "\n",
      "     Metacritic_norm_round  Metacritic_user_norm_round  IMDB_norm_round  \\\n",
      "3                      1.0                         2.5              2.5   \n",
      "85                     1.5                         3.0              3.5   \n",
      "47                     1.5                         2.5              2.5   \n",
      "19                     1.5                         2.5              3.0   \n",
      "134                    1.5                         2.5              3.5   \n",
      "\n",
      "     Metacritic_user_vote_count  IMDB_user_vote_count  Fandango_votes  \\\n",
      "3                            31                  3136            1793   \n",
      "85                           38                  5927             811   \n",
      "47                          108                 19222            6835   \n",
      "19                          246                 19521            3886   \n",
      "134                          49                 25214            2603   \n",
      "\n",
      "     Fandango_Difference  fm_diff  \n",
      "3                    0.5      4.0  \n",
      "85                   0.2      3.0  \n",
      "47                   0.3      3.0  \n",
      "19                   0.4      3.0  \n",
      "134                  0.0      3.0  \n",
      "\n",
      "[5 rows x 23 columns]\n"
     ]
    }
   ],
   "source": [
    "import numpy as np\n",
    "\n",
    "movies[\"fm_diff\"] = movies[\"Metacritic_norm_round\"] - movies[\"Fandango_Stars\"]\n",
    "movies[\"fm_diff\"] = np.absolute(movies[\"fm_diff\"])\n",
    "movies = movies.sort_values(\"fm_diff\",ascending=False)\n",
    "print(movies.head())"
   ]
  },
  {
   "cell_type": "markdown",
   "metadata": {},
   "source": [
    "### Our Findings\n",
    "In all honestly, I have not watched any of the movies with the biggest difference in scores, but there is no dispute that these are [some](https://www.rottentomatoes.com/m/pixels/) [of](https://www.rottentomatoes.com/m/the_longest_ride/) [the](https://www.rottentomatoes.com/m/do_you_believe) [most](https://www.rottentomatoes.com/m/annie_2012) [panned](https://www.rottentomatoes.com/m/little_boy_2015) movies of 2014 - 2015. There is no dispute that Fandango scored these movies favourably, despite what everyone else thought. "
   ]
  },
  {
   "cell_type": "markdown",
   "metadata": {},
   "source": [
    "## Finding Correlation"
   ]
  },
  {
   "cell_type": "code",
   "execution_count": 100,
   "metadata": {},
   "outputs": [
    {
     "name": "stdout",
     "output_type": "stream",
     "text": [
      "0.178449190739\n"
     ]
    }
   ],
   "source": [
    "from scipy.stats import pearsonr\n",
    "from scipy.stats import linregress\n",
    "\n",
    "\n",
    "r_value,p_value = pearsonr(movies[\"Metacritic_norm_round\"],movies[\"Fandango_Stars\"])\n",
    "print(r_value)"
   ]
  },
  {
   "cell_type": "code",
   "execution_count": 101,
   "metadata": {},
   "outputs": [
    {
     "name": "stdout",
     "output_type": "stream",
     "text": [
      "4.09170715282\n"
     ]
    }
   ],
   "source": [
    "slope, intercept, r_value, p_value, std_err = linregress(movies[\"Metacritic_norm_round\"],movies[\"Fandango_Stars\"])\n",
    "\n",
    "y_estimate_one = (slope*3)+intercept\n",
    "print(y_estimate_one)"
   ]
  },
  {
   "cell_type": "code",
   "execution_count": 102,
   "metadata": {},
   "outputs": [
    {
     "name": "stdout",
     "output_type": "stream",
     "text": [
      "4.28632930877\n"
     ]
    }
   ],
   "source": [
    "y_estimate_two = (slope*1)+intercept\n",
    "y_estimate_three = (slope*5)+intercept\n",
    "print(y_estimate_three)"
   ]
  },
  {
   "cell_type": "code",
   "execution_count": 103,
   "metadata": {},
   "outputs": [
    {
     "data": {
      "image/png": "[encoded data removed]",
      "text/plain": [
       "<matplotlib.figure.Figure at 0x10d8e7ef0>"
      ]
     },
     "metadata": {},
     "output_type": "display_data"
    }
   ],
   "source": [
    "plt.scatter(movies[\"Metacritic_norm_round\"],movies[\"Fandango_Stars\"])\n",
    "plt.plot([1.0, 5.0],[y_estimate_two,y_estimate_three])\n",
    "plt.xlim(1,5)\n",
    "plt.show()"
   ]
  },
  {
   "cell_type": "markdown",
   "metadata": {},
   "source": [
    "### Our Findings\n",
    "Low r-value (below 0.25) signifies no correlation between the two set of scores. This means that Fandango's high scores do not even scale to Metacritics, and may be due to the sole purpose of selling more tickets. Fandongo may even be inflating scores of low rated movies by a shit-ton just for this purpose. Using the regression line formula, our y-estimates (estimated Fandango scores) are higher for every point on the x-axis (actual Metacritic scores) with the exception of when the Metacritic score is actually at the highest possible score of 5."
   ]
  },
  {
   "cell_type": "code",
   "execution_count": null,
   "metadata": {
    "collapsed": true
   },
   "outputs": [],
   "source": []
  }
 ],
 "metadata": {
  "kernelspec": {
   "display_name": "Python 3",
   "language": "python",
   "name": "python3"
  },
  "language_info": {
   "codemirror_mode": {
    "name": "ipython",
    "version": 3
   },
   "file_extension": ".py",
   "mimetype": "text/x-python",
   "name": "python",
   "nbconvert_exporter": "python",
   "pygments_lexer": "ipython3",
   "version": "3.6.2"
  }
 },
 "nbformat": 4,
 "nbformat_minor": 2
}
